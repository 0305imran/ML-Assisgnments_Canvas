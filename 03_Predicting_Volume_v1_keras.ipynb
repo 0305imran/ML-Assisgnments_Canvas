{
  "cells": [
    {
      "cell_type": "markdown",
      "metadata": {
        "id": "view-in-github",
        "colab_type": "text"
      },
      "source": [
        "<a href=\"https://colab.research.google.com/github/0305imran/ML-Assisgnments_Canvas/blob/master/03_Predicting_Volume_v1_keras.ipynb\" target=\"_parent\"><img src=\"https://colab.research.google.com/assets/colab-badge.svg\" alt=\"Open In Colab\"/></a>"
      ]
    },
    {
      "cell_type": "code",
      "execution_count": null,
      "metadata": {
        "id": "CxOyuC6l44-c"
      },
      "outputs": [],
      "source": [
        "import tensorflow as tf\n",
        "import numpy as np\n",
        "import matplotlib.pyplot as plt"
      ]
    },
    {
      "cell_type": "code",
      "execution_count": null,
      "metadata": {
        "id": "_a67r4Yz44-h"
      },
      "outputs": [],
      "source": [
        "from tensorflow.keras.models import Sequential\n",
        "from tensorflow.keras.layers import Activation, Dense"
      ]
    },
    {
      "cell_type": "code",
      "execution_count": null,
      "metadata": {
        "id": "7TXPjmAP44-i"
      },
      "outputs": [],
      "source": [
        "from tensorflow.keras.optimizers import SGD"
      ]
    },
    {
      "cell_type": "markdown",
      "metadata": {
        "id": "JmA42WvY44-j"
      },
      "source": [
        "![image.png](attachment:image.png)"
      ]
    },
    {
      "cell_type": "code",
      "execution_count": null,
      "metadata": {
        "id": "IoE04gkO44-l"
      },
      "outputs": [],
      "source": [
        "feature =np.array([112,214,320,415,550,590]).reshape(-1,1)\n",
        "target = np.array(([1110,2231,3124,4364,5409,6145])).reshape(-1,1)"
      ]
    },
    {
      "cell_type": "code",
      "execution_count": null,
      "metadata": {
        "id": "N5jPnKEg44-l",
        "outputId": "4c9d2142-72e6-4fb2-c3f9-78eca283d4fa"
      },
      "outputs": [
        {
          "data": {
            "text/plain": [
              "Text(0, 0.5, 'target')"
            ]
          },
          "execution_count": 10,
          "metadata": {},
          "output_type": "execute_result"
        },
        {
          "data": {
            "image/png": "[encoded data removed]",
            "text/plain": [
              "<Figure size 640x480 with 1 Axes>"
            ]
          },
          "metadata": {},
          "output_type": "display_data"
        }
      ],
      "source": [
        "plt.scatter(feature,target)\n",
        "plt.xlabel('feature')\n",
        "plt.ylabel('target')"
      ]
    },
    {
      "cell_type": "code",
      "execution_count": null,
      "metadata": {
        "id": "u9VdTvFh44-m"
      },
      "outputs": [],
      "source": [
        "from sklearn.preprocessing import StandardScaler"
      ]
    },
    {
      "cell_type": "code",
      "execution_count": null,
      "metadata": {
        "id": "NAmTudsQ44-n"
      },
      "outputs": [],
      "source": [
        "scale = StandardScaler()\n",
        "X = scale.fit_transform(feature)"
      ]
    },
    {
      "cell_type": "code",
      "execution_count": null,
      "metadata": {
        "id": "Fwm_yY8H44-o"
      },
      "outputs": [],
      "source": [
        "from keras import backend as K\n",
        "def R2Score(y_true, y_pred):\n",
        "    SS_res =  K.sum(K.square( y_true-y_pred ))\n",
        "    SS_tot = K.sum(K.square( y_true - K.mean(y_true) ) )\n",
        "    return ( 1 - SS_res/SS_tot )"
      ]
    },
    {
      "cell_type": "code",
      "execution_count": null,
      "metadata": {
        "id": "Ob41F-Wi44-o"
      },
      "outputs": [],
      "source": [
        "model = Sequential()\n",
        "model.add(Dense(units=1,input_dim=1,activation='relu'))"
      ]
    },
    {
      "cell_type": "code",
      "execution_count": null,
      "metadata": {
        "id": "_dpqqIgB44-p",
        "outputId": "5b07b96f-5a9d-4981-ed0d-47a626c671a0"
      },
      "outputs": [
        {
          "name": "stdout",
          "output_type": "stream",
          "text": [
            "Model: \"sequential\"\n",
            "_________________________________________________________________\n",
            " Layer (type)                Output Shape              Param #   \n",
            "=================================================================\n",
            " dense (Dense)               (None, 1)                 2         \n",
            "                                                                 \n",
            "=================================================================\n",
            "Total params: 2\n",
            "Trainable params: 2\n",
            "Non-trainable params: 0\n",
            "_________________________________________________________________\n"
          ]
        }
      ],
      "source": [
        "model.summary()"
      ]
    },
    {
      "cell_type": "code",
      "execution_count": null,
      "metadata": {
        "id": "GKzSfBll44-p"
      },
      "outputs": [],
      "source": [
        "model.compile(loss='mean_squared_error', optimizer= SGD(0.1), metrics=R2Score)"
      ]
    },
    {
      "cell_type": "code",
      "execution_count": null,
      "metadata": {
        "id": "KJbWt0Ay44-p",
        "outputId": "2cf66c6c-1a51-4034-c090-b7acec687815"
      },
      "outputs": [
        {
          "name": "stdout",
          "output_type": "stream",
          "text": [
            "Epoch 1/100\n",
            "1/1 [==============================] - 0s 225ms/step - loss: 17004094.0000 - R2Score: -4.5054\n",
            "Epoch 2/100\n",
            "1/1 [==============================] - 0s 4ms/step - loss: 15994727.0000 - R2Score: -4.1786\n",
            "Epoch 3/100\n",
            "1/1 [==============================] - 0s 6ms/step - loss: 10242371.0000 - R2Score: -2.3161\n",
            "Epoch 4/100\n",
            "1/1 [==============================] - 0s 5ms/step - loss: 6560862.5000 - R2Score: -1.1242\n",
            "Epoch 5/100\n",
            "1/1 [==============================] - 0s 3ms/step - loss: 4204697.0000 - R2Score: -0.3613\n",
            "Epoch 6/100\n",
            "1/1 [==============================] - 0s 3ms/step - loss: 2696751.0000 - R2Score: 0.1269\n",
            "Epoch 7/100\n",
            "1/1 [==============================] - 0s 3ms/step - loss: 1731665.8750 - R2Score: 0.4393\n",
            "Epoch 8/100\n",
            "1/1 [==============================] - 0s 4ms/step - loss: 1114011.3750 - R2Score: 0.6393\n",
            "Epoch 9/100\n",
            "1/1 [==============================] - 0s 3ms/step - loss: 718712.5625 - R2Score: 0.7673\n",
            "Epoch 10/100\n",
            "1/1 [==============================] - 0s 4ms/step - loss: 465721.5000 - R2Score: 0.8492\n",
            "Epoch 11/100\n",
            "1/1 [==============================] - 0s 4ms/step - loss: 303806.6562 - R2Score: 0.9016\n",
            "Epoch 12/100\n",
            "1/1 [==============================] - 0s 3ms/step - loss: 200181.4375 - R2Score: 0.9352\n",
            "Epoch 13/100\n",
            "1/1 [==============================] - 0s 4ms/step - loss: 133861.3594 - R2Score: 0.9567\n",
            "Epoch 14/100\n",
            "1/1 [==============================] - 0s 4ms/step - loss: 91416.4609 - R2Score: 0.9704\n",
            "Epoch 15/100\n",
            "1/1 [==============================] - 0s 3ms/step - loss: 64251.7148 - R2Score: 0.9792\n",
            "Epoch 16/100\n",
            "1/1 [==============================] - 0s 3ms/step - loss: 46866.2188 - R2Score: 0.9848\n",
            "Epoch 17/100\n",
            "1/1 [==============================] - 0s 4ms/step - loss: 35739.5352 - R2Score: 0.9884\n",
            "Epoch 18/100\n",
            "1/1 [==============================] - 0s 3ms/step - loss: 28618.4844 - R2Score: 0.9907\n",
            "Epoch 19/100\n",
            "1/1 [==============================] - 0s 3ms/step - loss: 24060.9590 - R2Score: 0.9922\n",
            "Epoch 20/100\n",
            "1/1 [==============================] - 0s 5ms/step - loss: 21144.2422 - R2Score: 0.9932\n",
            "Epoch 21/100\n",
            "1/1 [==============================] - 0s 3ms/step - loss: 19277.4707 - R2Score: 0.9938\n",
            "Epoch 22/100\n",
            "1/1 [==============================] - 0s 3ms/step - loss: 18082.7500 - R2Score: 0.9941\n",
            "Epoch 23/100\n",
            "1/1 [==============================] - 0s 5ms/step - loss: 17318.1094 - R2Score: 0.9944\n",
            "Epoch 24/100\n",
            "1/1 [==============================] - 0s 4ms/step - loss: 16828.7988 - R2Score: 0.9946\n",
            "Epoch 25/100\n",
            "1/1 [==============================] - 0s 4ms/step - loss: 16515.6328 - R2Score: 0.9947\n",
            "Epoch 26/100\n",
            "1/1 [==============================] - 0s 4ms/step - loss: 16315.1396 - R2Score: 0.9947\n",
            "Epoch 27/100\n",
            "1/1 [==============================] - 0s 3ms/step - loss: 16186.8682 - R2Score: 0.9948\n",
            "Epoch 28/100\n",
            "1/1 [==============================] - 0s 4ms/step - loss: 16104.7686 - R2Score: 0.9948\n",
            "Epoch 29/100\n",
            "1/1 [==============================] - 0s 4ms/step - loss: 16052.2471 - R2Score: 0.9948\n",
            "Epoch 30/100\n",
            "1/1 [==============================] - 0s 4ms/step - loss: 16018.6250 - R2Score: 0.9948\n",
            "Epoch 31/100\n",
            "1/1 [==============================] - 0s 5ms/step - loss: 15997.0967 - R2Score: 0.9948\n",
            "Epoch 32/100\n",
            "1/1 [==============================] - 0s 3ms/step - loss: 15983.3203 - R2Score: 0.9948\n",
            "Epoch 33/100\n",
            "1/1 [==============================] - 0s 3ms/step - loss: 15974.4736 - R2Score: 0.9948\n",
            "Epoch 34/100\n",
            "1/1 [==============================] - 0s 3ms/step - loss: 15968.8701 - R2Score: 0.9948\n",
            "Epoch 35/100\n",
            "1/1 [==============================] - 0s 5ms/step - loss: 15965.2705 - R2Score: 0.9948\n",
            "Epoch 36/100\n",
            "1/1 [==============================] - 0s 3ms/step - loss: 15962.9502 - R2Score: 0.9948\n",
            "Epoch 37/100\n",
            "1/1 [==============================] - 0s 4ms/step - loss: 15961.4531 - R2Score: 0.9948\n",
            "Epoch 38/100\n",
            "1/1 [==============================] - 0s 4ms/step - loss: 15960.4971 - R2Score: 0.9948\n",
            "Epoch 39/100\n",
            "1/1 [==============================] - 0s 5ms/step - loss: 15959.9092 - R2Score: 0.9948\n",
            "Epoch 40/100\n",
            "1/1 [==============================] - 0s 4ms/step - loss: 15959.5205 - R2Score: 0.9948\n",
            "Epoch 41/100\n",
            "1/1 [==============================] - 0s 5ms/step - loss: 15959.2812 - R2Score: 0.9948\n",
            "Epoch 42/100\n",
            "1/1 [==============================] - 0s 4ms/step - loss: 15959.1016 - R2Score: 0.9948\n",
            "Epoch 43/100\n",
            "1/1 [==============================] - 0s 4ms/step - loss: 15959.0127 - R2Score: 0.9948\n",
            "Epoch 44/100\n",
            "1/1 [==============================] - 0s 3ms/step - loss: 15958.9570 - R2Score: 0.9948\n",
            "Epoch 45/100\n",
            "1/1 [==============================] - 0s 4ms/step - loss: 15958.9102 - R2Score: 0.9948\n",
            "Epoch 46/100\n",
            "1/1 [==============================] - 0s 4ms/step - loss: 15958.8906 - R2Score: 0.9948\n",
            "Epoch 47/100\n",
            "1/1 [==============================] - 0s 5ms/step - loss: 15958.8545 - R2Score: 0.9948\n",
            "Epoch 48/100\n",
            "1/1 [==============================] - 0s 4ms/step - loss: 15958.8359 - R2Score: 0.9948\n",
            "Epoch 49/100\n",
            "1/1 [==============================] - 0s 5ms/step - loss: 15958.8330 - R2Score: 0.9948\n",
            "Epoch 50/100\n",
            "1/1 [==============================] - 0s 4ms/step - loss: 15958.8252 - R2Score: 0.9948\n",
            "Epoch 51/100\n",
            "1/1 [==============================] - 0s 4ms/step - loss: 15958.8154 - R2Score: 0.9948\n",
            "Epoch 52/100\n",
            "1/1 [==============================] - 0s 5ms/step - loss: 15958.8096 - R2Score: 0.9948\n",
            "Epoch 53/100\n",
            "1/1 [==============================] - 0s 4ms/step - loss: 15958.8281 - R2Score: 0.9948\n",
            "Epoch 54/100\n",
            "1/1 [==============================] - 0s 5ms/step - loss: 15958.8320 - R2Score: 0.9948\n",
            "Epoch 55/100\n",
            "1/1 [==============================] - 0s 5ms/step - loss: 15958.8467 - R2Score: 0.9948\n",
            "Epoch 56/100\n",
            "1/1 [==============================] - 0s 4ms/step - loss: 15958.8643 - R2Score: 0.9948\n",
            "Epoch 57/100\n",
            "1/1 [==============================] - 0s 6ms/step - loss: 15958.8359 - R2Score: 0.9948\n",
            "Epoch 58/100\n",
            "1/1 [==============================] - 0s 4ms/step - loss: 15958.8350 - R2Score: 0.9948\n",
            "Epoch 59/100\n",
            "1/1 [==============================] - 0s 6ms/step - loss: 15958.8057 - R2Score: 0.9948\n",
            "Epoch 60/100\n",
            "1/1 [==============================] - 0s 5ms/step - loss: 15958.8291 - R2Score: 0.9948\n",
            "Epoch 61/100\n",
            "1/1 [==============================] - 0s 4ms/step - loss: 15958.8115 - R2Score: 0.9948\n",
            "Epoch 62/100\n",
            "1/1 [==============================] - 0s 4ms/step - loss: 15958.8164 - R2Score: 0.9948\n",
            "Epoch 63/100\n",
            "1/1 [==============================] - 0s 4ms/step - loss: 15958.8096 - R2Score: 0.9948\n",
            "Epoch 64/100\n",
            "1/1 [==============================] - 0s 5ms/step - loss: 15958.8174 - R2Score: 0.9948\n",
            "Epoch 65/100\n",
            "1/1 [==============================] - 0s 5ms/step - loss: 15958.8252 - R2Score: 0.9948\n",
            "Epoch 66/100\n",
            "1/1 [==============================] - 0s 6ms/step - loss: 15958.8232 - R2Score: 0.9948\n",
            "Epoch 67/100\n",
            "1/1 [==============================] - 0s 5ms/step - loss: 15958.8545 - R2Score: 0.9948\n",
            "Epoch 68/100\n",
            "1/1 [==============================] - 0s 5ms/step - loss: 15958.8311 - R2Score: 0.9948\n",
            "Epoch 69/100\n",
            "1/1 [==============================] - 0s 6ms/step - loss: 15958.8408 - R2Score: 0.9948\n",
            "Epoch 70/100\n",
            "1/1 [==============================] - 0s 4ms/step - loss: 15958.8125 - R2Score: 0.9948\n",
            "Epoch 71/100\n",
            "1/1 [==============================] - 0s 6ms/step - loss: 15958.8389 - R2Score: 0.9948\n",
            "Epoch 72/100\n",
            "1/1 [==============================] - 0s 5ms/step - loss: 15958.8369 - R2Score: 0.9948\n",
            "Epoch 73/100\n",
            "1/1 [==============================] - 0s 5ms/step - loss: 15958.8359 - R2Score: 0.9948\n",
            "Epoch 74/100\n",
            "1/1 [==============================] - 0s 4ms/step - loss: 15958.8369 - R2Score: 0.9948\n",
            "Epoch 75/100\n",
            "1/1 [==============================] - 0s 5ms/step - loss: 15958.8359 - R2Score: 0.9948\n",
            "Epoch 76/100\n",
            "1/1 [==============================] - 0s 4ms/step - loss: 15958.8369 - R2Score: 0.9948\n",
            "Epoch 77/100\n",
            "1/1 [==============================] - 0s 4ms/step - loss: 15958.8359 - R2Score: 0.9948\n",
            "Epoch 78/100\n",
            "1/1 [==============================] - 0s 4ms/step - loss: 15958.8369 - R2Score: 0.9948\n",
            "Epoch 79/100\n",
            "1/1 [==============================] - 0s 4ms/step - loss: 15958.8359 - R2Score: 0.9948\n",
            "Epoch 80/100\n",
            "1/1 [==============================] - 0s 4ms/step - loss: 15958.8369 - R2Score: 0.9948\n",
            "Epoch 81/100\n"
          ]
        },
        {
          "name": "stdout",
          "output_type": "stream",
          "text": [
            "1/1 [==============================] - 0s 6ms/step - loss: 15958.8359 - R2Score: 0.9948\n",
            "Epoch 82/100\n",
            "1/1 [==============================] - 0s 4ms/step - loss: 15958.8369 - R2Score: 0.9948\n",
            "Epoch 83/100\n",
            "1/1 [==============================] - 0s 5ms/step - loss: 15958.8359 - R2Score: 0.9948\n",
            "Epoch 84/100\n",
            "1/1 [==============================] - 0s 3ms/step - loss: 15958.8359 - R2Score: 0.9948\n",
            "Epoch 85/100\n",
            "1/1 [==============================] - 0s 4ms/step - loss: 15958.8369 - R2Score: 0.9948\n",
            "Epoch 86/100\n",
            "1/1 [==============================] - 0s 4ms/step - loss: 15958.8359 - R2Score: 0.9948\n",
            "Epoch 87/100\n",
            "1/1 [==============================] - 0s 4ms/step - loss: 15958.8359 - R2Score: 0.9948\n",
            "Epoch 88/100\n",
            "1/1 [==============================] - 0s 4ms/step - loss: 15958.8359 - R2Score: 0.9948\n",
            "Epoch 89/100\n",
            "1/1 [==============================] - 0s 5ms/step - loss: 15958.8359 - R2Score: 0.9948\n",
            "Epoch 90/100\n",
            "1/1 [==============================] - 0s 5ms/step - loss: 15958.8359 - R2Score: 0.9948\n",
            "Epoch 91/100\n",
            "1/1 [==============================] - 0s 5ms/step - loss: 15958.8369 - R2Score: 0.9948\n",
            "Epoch 92/100\n",
            "1/1 [==============================] - 0s 4ms/step - loss: 15958.8369 - R2Score: 0.9948\n",
            "Epoch 93/100\n",
            "1/1 [==============================] - 0s 5ms/step - loss: 15958.8369 - R2Score: 0.9948\n",
            "Epoch 94/100\n",
            "1/1 [==============================] - 0s 4ms/step - loss: 15958.8369 - R2Score: 0.9948\n",
            "Epoch 95/100\n",
            "1/1 [==============================] - 0s 5ms/step - loss: 15958.8369 - R2Score: 0.9948\n",
            "Epoch 96/100\n",
            "1/1 [==============================] - 0s 5ms/step - loss: 15958.8369 - R2Score: 0.9948\n",
            "Epoch 97/100\n",
            "1/1 [==============================] - 0s 6ms/step - loss: 15958.8359 - R2Score: 0.9948\n",
            "Epoch 98/100\n",
            "1/1 [==============================] - 0s 5ms/step - loss: 15958.8359 - R2Score: 0.9948\n",
            "Epoch 99/100\n",
            "1/1 [==============================] - 0s 3ms/step - loss: 15958.8359 - R2Score: 0.9948\n",
            "Epoch 100/100\n",
            "1/1 [==============================] - 0s 6ms/step - loss: 15958.8369 - R2Score: 0.9948\n"
          ]
        }
      ],
      "source": [
        "model.fit(X,y,epochs=100)"
      ]
    },
    {
      "cell_type": "code",
      "execution_count": null,
      "metadata": {
        "id": "L6KduU7X44-q",
        "outputId": "0757398b-6fdb-44e4-f688-0de83a76052f"
      },
      "outputs": [
        {
          "data": {
            "text/plain": [
              "[array([[1752.9071]], dtype=float32), array([3730.4995], dtype=float32)]"
            ]
          },
          "execution_count": 33,
          "metadata": {},
          "output_type": "execute_result"
        }
      ],
      "source": [
        "model.get_weights()"
      ]
    },
    {
      "cell_type": "code",
      "execution_count": null,
      "metadata": {
        "id": "oJ6O4bxC44-q",
        "outputId": "28cfead1-f17f-40ec-f8f1-e2ab269f024a"
      },
      "outputs": [
        {
          "data": {
            "text/plain": [
              "15958.837"
            ]
          },
          "execution_count": 34,
          "metadata": {},
          "output_type": "execute_result"
        }
      ],
      "source": [
        "model.get_metrics_result()['loss'].numpy()"
      ]
    },
    {
      "cell_type": "code",
      "execution_count": null,
      "metadata": {
        "id": "WdTLTCfT44-q",
        "outputId": "7b7dcd68-abde-443e-ce2d-e2bc56ebf7aa"
      },
      "outputs": [
        {
          "data": {
            "text/plain": [
              "0.99483305"
            ]
          },
          "execution_count": 35,
          "metadata": {},
          "output_type": "execute_result"
        }
      ],
      "source": [
        "model.get_metrics_result()['R2Score'].numpy()"
      ]
    },
    {
      "cell_type": "code",
      "execution_count": null,
      "metadata": {
        "id": "GBiuQBt144-q",
        "outputId": "287f0059-c2bc-4ede-9254-96b142907339"
      },
      "outputs": [
        {
          "name": "stdout",
          "output_type": "stream",
          "text": [
            "1/1 [==============================] - 0s 54ms/step\n"
          ]
        }
      ],
      "source": [
        "result = model.predict(X)"
      ]
    },
    {
      "cell_type": "code",
      "execution_count": null,
      "metadata": {
        "id": "MiE_05nQ44-q",
        "outputId": "b60ae7b0-4c3a-4f73-efb7-724899724d27"
      },
      "outputs": [
        {
          "data": {
            "text/plain": [
              "array([[1123.5588],\n",
              "       [2167.017 ],\n",
              "       [3251.3953],\n",
              "       [4223.2437],\n",
              "       [5604.2915],\n",
              "       [6013.4907]], dtype=float32)"
            ]
          },
          "execution_count": 54,
          "metadata": {},
          "output_type": "execute_result"
        }
      ],
      "source": [
        "result"
      ]
    },
    {
      "cell_type": "code",
      "execution_count": null,
      "metadata": {
        "id": "xFJueNvF44-r",
        "outputId": "e0433f3b-815e-4a6a-9e7a-524ef07a29c4"
      },
      "outputs": [
        {
          "data": {
            "text/plain": [
              "0.9948330070397694"
            ]
          },
          "execution_count": 56,
          "metadata": {},
          "output_type": "execute_result"
        }
      ],
      "source": [
        "from sklearn.metrics import r2_score\n",
        "r2_score(y,result)"
      ]
    }
  ],
  "metadata": {
    "kernelspec": {
      "display_name": "Python 3 (ipykernel)",
      "language": "python",
      "name": "python3"
    },
    "language_info": {
      "codemirror_mode": {
        "name": "ipython",
        "version": 3
      },
      "file_extension": ".py",
      "mimetype": "text/x-python",
      "name": "python",
      "nbconvert_exporter": "python",
      "pygments_lexer": "ipython3",
      "version": "3.10.9"
    },
    "colab": {
      "provenance": [],
      "include_colab_link": true
    }
  },
  "nbformat": 4,
  "nbformat_minor": 0
}